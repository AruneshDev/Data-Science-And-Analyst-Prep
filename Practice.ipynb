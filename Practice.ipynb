{
 "cells": [
  {
   "cell_type": "code",
   "execution_count": null,
   "metadata": {},
   "outputs": [],
   "source": [
    "# Given a list of numbers, write a python function to return the sum of the list \n",
    "def sumOfLists(nums):\n",
    "    return sum(nums)\n",
    "numbers = [1,2,4,5,6,7]\n",
    "print(sumOfLists(numbers))"
   ]
  }
 ],
 "metadata": {
  "language_info": {
   "name": "python"
  }
 },
 "nbformat": 4,
 "nbformat_minor": 2
}
